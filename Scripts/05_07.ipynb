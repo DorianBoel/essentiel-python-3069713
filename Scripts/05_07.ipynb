{
 "cells": [
  {
   "cell_type": "code",
   "execution_count": 20,
   "metadata": {},
   "outputs": [],
   "source": [
    "class BankAccount:\n",
    "  def __init__(self, account_number, name, balance):\n",
    "    self.account_number = account_number\n",
    "    self.name = name\n",
    "    self.balance = balance\n",
    "  \n",
    "  def credit(self, amount):\n",
    "    self.balance += amount\n",
    "    print(f\"{amount:.0f} added to account {self.account_number} (balance = {self.balance:.0f})\")\n",
    "  \n",
    "  def debit(self, amount):\n",
    "    if self.balance >= amount:\n",
    "      self.balance -= amount\n",
    "      print(f\"{amount:.0f} withdrawn from account {self.account_number} (balance = {self.balance:.0f})\")\n",
    "    else:\n",
    "      print(f\"Insufficient account balance ({self.balance:.0f})\")\n",
    "  \n",
    "  def apply_bank_charges(self):\n",
    "    chargeAmount = self.balance * 0.05\n",
    "    print(\"Applying bank charges...\")\n",
    "    self.debit(chargeAmount)\n"
   ]
  },
  {
   "cell_type": "code",
   "execution_count": 21,
   "metadata": {},
   "outputs": [
    {
     "name": "stdout",
     "output_type": "stream",
     "text": [
      "5000 added to account 1000235934 (balance = 35000)\n",
      "Applying bank charges...\n",
      "1750 withdrawn from account 1000235934 (balance = 33250)\n"
     ]
    }
   ],
   "source": [
    "bank_account = BankAccount(1000235934, \"PUCEPRE Jean-Paul\", 30_000)\n",
    "bank_account.credit(5000)\n",
    "bank_account.apply_bank_charges()"
   ]
  }
 ],
 "metadata": {
  "kernelspec": {
   "display_name": "Python 3",
   "language": "python",
   "name": "python3"
  },
  "language_info": {
   "codemirror_mode": {
    "name": "ipython",
    "version": 3
   },
   "file_extension": ".py",
   "mimetype": "text/x-python",
   "name": "python",
   "nbconvert_exporter": "python",
   "pygments_lexer": "ipython3",
   "version": "3.10.13"
  }
 },
 "nbformat": 4,
 "nbformat_minor": 2
}
