{
 "cells": [
  {
   "cell_type": "code",
   "execution_count": 9,
   "metadata": {},
   "outputs": [
    {
     "name": "stdout",
     "output_type": "stream",
     "text": [
      "{'Jean': 'Michou', 'Monsieur': 'Meu', 'Boule': 'Magique'}\n"
     ]
    }
   ],
   "source": [
    "tuple1 = (\"Jean\", \"Monsieur\")\n",
    "tuple2 = (\"Michou\", \"Meu\")\n",
    "dict1 = {tuple1[0]: tuple2[0], tuple1[1]: tuple2[1]}\n",
    "dict2 = dict1.copy()\n",
    "dict2.update(Boule = \"Magique\")\n",
    "print(dict2)"
   ]
  }
 ],
 "metadata": {
  "kernelspec": {
   "display_name": "Python 3",
   "language": "python",
   "name": "python3"
  },
  "language_info": {
   "codemirror_mode": {
    "name": "ipython",
    "version": 3
   },
   "file_extension": ".py",
   "mimetype": "text/x-python",
   "name": "python",
   "nbconvert_exporter": "python",
   "pygments_lexer": "ipython3",
   "version": "3.10.13"
  }
 },
 "nbformat": 4,
 "nbformat_minor": 2
}
